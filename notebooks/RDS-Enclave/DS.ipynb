{
 "cells": [
  {
   "cell_type": "markdown",
   "id": "ccbbabbb",
   "metadata": {},
   "source": [
    "## Setup RDS Server"
   ]
  },
  {
   "cell_type": "code",
   "execution_count": null,
   "id": "6d1d9534-ceaf-4d48-b157-69acef5a41f5",
   "metadata": {},
   "outputs": [],
   "source": [
    "from syft_rds.orchestra import setup_rds_server\n",
    "from syftbox_enclave.client import connect\n",
    "from syft_rds import init_session\n",
    "import os"
   ]
  },
  {
   "cell_type": "code",
   "execution_count": null,
   "id": "7bff1320-6daf-4749-84b9-c192f7fa2b2b",
   "metadata": {},
   "outputs": [],
   "source": [
    "ds_stack = setup_rds_server(email=\"ds@openmined.org\", key=\"enclave\")\n",
    "\n",
    "os.environ[\"SYFTBOX_CLIENT_CONFIG_PATH\"] = str(ds_stack.client.config_path)"
   ]
  },
  {
   "cell_type": "markdown",
   "id": "dfc832f0-34e9-4cbf-85ca-7909b6ec0f69",
   "metadata": {},
   "source": [
    "## Explore Datasets"
   ]
  },
  {
   "cell_type": "code",
   "execution_count": null,
   "id": "9d90bc2b-1d6d-43ed-934c-f30933b6a944",
   "metadata": {},
   "outputs": [],
   "source": [
    "DO1 = \"do@openmined.org\"\n",
    "\n",
    "do_client = ds_stack.init_session(host=DO1)\n",
    "print(\"Logged into: \", do_client.host)\n"
   ]
  },
  {
   "cell_type": "code",
   "execution_count": null,
   "id": "4b5dca32-3ce0-4d0a-a540-a8b2f0187650",
   "metadata": {},
   "outputs": [],
   "source": [
    "do_client.datasets"
   ]
  },
  {
   "cell_type": "code",
   "execution_count": null,
   "id": "092369c5-273f-4374-900d-ff90eea5044f",
   "metadata": {},
   "outputs": [],
   "source": [
    "dataset = do_client.datasets[0]\n",
    "dataset"
   ]
  },
  {
   "cell_type": "markdown",
   "id": "095ac627-5a67-45a6-a9ed-561ab549d35f",
   "metadata": {},
   "source": [
    "### DO Job"
   ]
  },
  {
   "cell_type": "code",
   "execution_count": null,
   "id": "0521a624-c926-47f2-9d81-6ffabb093792",
   "metadata": {},
   "outputs": [],
   "source": [
    "job = do_client.jobs.submit(\n",
    "        name=\"Crop Avg Experiment\",\n",
    "        description=\"Farming Coop Avg Experiment\",\n",
    "        user_code_path=\"./code\",\n",
    "        dataset_name=dataset.name,\n",
    "        tags=[\"enclave\", \"syft\"],\n",
    "        entrypoint=\"entrypoint.py\",\n",
    "        enclave = \"enclave@openmined.org\"\n",
    "    )\n",
    "job"
   ]
  },
  {
   "cell_type": "code",
   "execution_count": null,
   "id": "bb6a8671-c808-46f8-81b9-57e4546890c3",
   "metadata": {},
   "outputs": [],
   "source": [
    "do_client"
   ]
  },
  {
   "cell_type": "markdown",
   "id": "77de775c-e6bc-4bfd-a1d8-d0dc287d1d29",
   "metadata": {},
   "source": [
    "### Enclave Client"
   ]
  },
  {
   "cell_type": "code",
   "execution_count": null,
   "id": "821d0ed9-3369-4eaa-bbb1-7f771a89ca99",
   "metadata": {},
   "outputs": [],
   "source": [
    "enclave_client = connect(\"enclave@openmined.org\")"
   ]
  },
  {
   "cell_type": "code",
   "execution_count": null,
   "id": "9fb3975f-9dfd-4470-a146-c3cac11fea81",
   "metadata": {},
   "outputs": [],
   "source": [
    "proj_res = enclave_client.create_project(\n",
    "                   project_name = \"CropAvg\",\n",
    "                   datasets = [dataset,dataset] ,\n",
    "                   output_owners = [\"do@openmined.org\"],\n",
    "                   code_path = \"./code\",\n",
    "                   entrypoint = \"entrypoint.py\"\n",
    "            )\n",
    "            "
   ]
  },
  {
   "cell_type": "code",
   "execution_count": null,
   "id": "50787be4-df7a-487b-a371-35ac3d44cbeb",
   "metadata": {},
   "outputs": [],
   "source": [
    "proj_res.output()"
   ]
  },
  {
   "cell_type": "code",
   "execution_count": null,
   "id": "020d45c4-053b-4d4e-9183-8fa64ab8e82d",
   "metadata": {},
   "outputs": [],
   "source": []
  }
 ],
 "metadata": {
  "kernelspec": {
   "display_name": "Python 3 (ipykernel)",
   "language": "python",
   "name": "python3"
  },
  "language_info": {
   "codemirror_mode": {
    "name": "ipython",
    "version": 3
   },
   "file_extension": ".py",
   "mimetype": "text/x-python",
   "name": "python",
   "nbconvert_exporter": "python",
   "pygments_lexer": "ipython3",
   "version": "3.12.8"
  }
 },
 "nbformat": 4,
 "nbformat_minor": 5
}
