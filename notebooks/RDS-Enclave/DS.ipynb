{
 "cells": [
  {
   "cell_type": "markdown",
   "id": "ccbbabbb",
   "metadata": {},
   "source": [
    "## Setup RDS Server"
   ]
  },
  {
   "cell_type": "code",
   "execution_count": 1,
   "id": "2cee3920",
   "metadata": {},
   "outputs": [
    {
     "name": "stderr",
     "output_type": "stream",
     "text": [
      "\u001b[32m2025-05-13 09:50:59.823\u001b[0m | \u001b[1mINFO    \u001b[0m | \u001b[36msyft_rds.orchestra\u001b[0m:\u001b[36msetup_rds_server\u001b[0m:\u001b[36m219\u001b[0m - \u001b[1mLaunching mock RDS server in /private/var/folders/4w/9cvj7hqd4_386stwby6n2pcw0000gn/T/enclave\u001b[0m\n"
     ]
    }
   ],
   "source": [
    "from syft_rds.orchestra import setup_rds_server\n",
    "\n",
    "\n",
    "ds_stack = setup_rds_server(email=\"ds@openmined.org\", key=\"enclave\")"
   ]
  },
  {
   "cell_type": "code",
   "execution_count": null,
   "id": "8f384855",
   "metadata": {},
   "outputs": [],
   "source": []
  }
 ],
 "metadata": {
  "kernelspec": {
   "display_name": ".venv",
   "language": "python",
   "name": "python3"
  },
  "language_info": {
   "codemirror_mode": {
    "name": "ipython",
    "version": 3
   },
   "file_extension": ".py",
   "mimetype": "text/x-python",
   "name": "python",
   "nbconvert_exporter": "python",
   "pygments_lexer": "ipython3",
   "version": "3.12.8"
  }
 },
 "nbformat": 4,
 "nbformat_minor": 5
}
