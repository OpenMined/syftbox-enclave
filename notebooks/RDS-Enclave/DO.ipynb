{
 "cells": [
  {
   "cell_type": "markdown",
   "id": "862549ca",
   "metadata": {},
   "source": [
    "## Data Owner "
   ]
  },
  {
   "cell_type": "markdown",
   "id": "b3048863",
   "metadata": {},
   "source": [
    "### Step 1: Setup RDS Server"
   ]
  },
  {
   "cell_type": "code",
   "execution_count": 1,
   "id": "5449a19e",
   "metadata": {},
   "outputs": [
    {
     "name": "stderr",
     "output_type": "stream",
     "text": [
      "\u001b[32m2025-05-19 06:07:11.504\u001b[0m | \u001b[1mINFO    \u001b[0m | \u001b[36msyft_rds.orchestra\u001b[0m:\u001b[36mremove_rds_stack_dir\u001b[0m:\u001b[36m97\u001b[0m - \u001b[1mSuccessfully removed directory /var/folders/4w/9cvj7hqd4_386stwby6n2pcw0000gn/T/enclave ✅\u001b[0m\n",
      "\u001b[32m2025-05-19 06:07:11.509\u001b[0m | \u001b[1mINFO    \u001b[0m | \u001b[36msyft_rds.orchestra\u001b[0m:\u001b[36msetup_rds_server\u001b[0m:\u001b[36m219\u001b[0m - \u001b[1mLaunching mock RDS server in /private/var/folders/4w/9cvj7hqd4_386stwby6n2pcw0000gn/T/enclave\u001b[0m\n"
     ]
    }
   ],
   "source": [
    "from syft_rds.orchestra import setup_rds_server, remove_rds_stack_dir\n",
    "\n",
    "remove_rds_stack_dir(key=\"enclave\")\n",
    "\n",
    "do_stack = setup_rds_server(email=\"do@openmined.org\", key=\"enclave\")"
   ]
  },
  {
   "cell_type": "code",
   "execution_count": 2,
   "id": "1d22ac3d",
   "metadata": {},
   "outputs": [],
   "source": [
    "do_client = do_stack.init_session(host=\"do@openmined.org\")"
   ]
  },
  {
   "cell_type": "markdown",
   "id": "b995c0ea",
   "metadata": {},
   "source": [
    "### Step 2.1: Create Private / Mock Dataset"
   ]
  },
  {
   "cell_type": "code",
   "execution_count": 3,
   "id": "58cc0153",
   "metadata": {},
   "outputs": [],
   "source": [
    "from utils import generate_crop_data, create_readme\n",
    "\n",
    "DATASET_FILE_NAME = \"crop_stock_data.csv\"\n",
    "DATASET_PATH = \"datasets\"\n",
    "DATASET_PRIVATE_PATH = f\"{DATASET_PATH}/private\"\n",
    "DATASET_MOCK_PATH = f\"{DATASET_PATH}/mock\"\n"
   ]
  },
  {
   "cell_type": "code",
   "execution_count": 4,
   "id": "eef6f17a",
   "metadata": {},
   "outputs": [
    {
     "name": "stdout",
     "output_type": "stream",
     "text": [
      "Crop data with 10 unique crops saved to datasets/private/crop_stock_data.csv\n"
     ]
    }
   ],
   "source": [
    "# Private Data\n",
    "generate_crop_data(num_rows=10,\n",
    "                        output_path=f\"{DATASET_PRIVATE_PATH}/{DATASET_FILE_NAME}\")"
   ]
  },
  {
   "cell_type": "code",
   "execution_count": 5,
   "id": "ec04eb8b",
   "metadata": {},
   "outputs": [
    {
     "name": "stdout",
     "output_type": "stream",
     "text": [
      "Crop data with 10 unique crops saved to datasets/mock/crop_stock_data.csv\n"
     ]
    }
   ],
   "source": [
    "# Mock Data\n",
    "generate_crop_data(num_rows=10,\n",
    "                        output_path=f\"{DATASET_MOCK_PATH}/{DATASET_FILE_NAME}\")"
   ]
  },
  {
   "cell_type": "code",
   "execution_count": 6,
   "id": "fda5ad36",
   "metadata": {},
   "outputs": [
    {
     "name": "stdout",
     "output_type": "stream",
     "text": [
      "README written to datasets/README.md\n"
     ]
    }
   ],
   "source": [
    "README_PATH = f\"{DATASET_PATH}/README.md\"\n",
    "create_readme(output_path=README_PATH)"
   ]
  },
  {
   "cell_type": "markdown",
   "id": "44c2078c",
   "metadata": {},
   "source": [
    "### Step 2.2: Load Dataset to SyftBox"
   ]
  },
  {
   "cell_type": "code",
   "execution_count": 7,
   "id": "ed56c8cd",
   "metadata": {},
   "outputs": [
    {
     "data": {
      "text/html": [
       "<pre style=\"white-space:pre;overflow-x:auto;line-height:normal;font-family:Menlo,'DejaVu Sans Mono',consolas,'Courier New',monospace\"></pre>\n"
      ],
      "text/plain": []
     },
     "metadata": {},
     "output_type": "display_data"
    },
    {
     "data": {
      "text/html": [
       "<style>\n",
       "/* Dark mode support */\n",
       "body[data-jp-theme-light=\"false\"],\n",
       "body.vscode-dark {\n",
       "  --primary-color: #111111;\n",
       "  --secondary-color: #212121;\n",
       "  --tertiary-color: #cfcdd6;\n",
       "  --button-color: #111111;\n",
       "  --text-color: #ffffff;\n",
       "  --border-color: #444;\n",
       "  --surface-color: #2e2e2e;\n",
       "}\n",
       "\n",
       "body {\n",
       "  --primary-color: #ffffff;\n",
       "  --secondary-color: #f5f5f5;\n",
       "  --tertiary-color: #000000de;\n",
       "  --button-color: #d1d5db;\n",
       "  --text-color: #333;\n",
       "  --border-color: #ddd;\n",
       "  --surface-color: #f8f8f8;\n",
       "}\n",
       "\n",
       ".model-container {\n",
       "  font-family: -apple-system, BlinkMacSystemFont, \"Segoe UI\", Roboto, Helvetica,\n",
       "    Arial, sans-serif;\n",
       "  border: 1px solid var(--border-color);\n",
       "  border-radius: 6px;\n",
       "  box-shadow: 0 1px 3px rgba(0, 0, 0, 0.12);\n",
       "  margin-bottom: 16px;\n",
       "  overflow: hidden;\n",
       "  background-color: var(--primary-color);\n",
       "  color: var(--text-color);\n",
       "}\n",
       "\n",
       ".model-header {\n",
       "  background-color: var(--secondary-color);\n",
       "  padding: 12px 16px;\n",
       "  border-bottom: 1px solid var(--border-color);\n",
       "  font-weight: 600;\n",
       "  font-size: 14px;\n",
       "  color: var(--tertiary-color);\n",
       "}\n",
       "\n",
       ".model-content {\n",
       "  padding: 16px;\n",
       "}\n",
       "\n",
       ".model-table {\n",
       "  width: 100%;\n",
       "  border-spacing: 0;\n",
       "  border-collapse: collapse;\n",
       "}\n",
       "\n",
       ".model-table td {\n",
       "  padding: 8px 4px;\n",
       "  font-size: 14px;\n",
       "  line-height: 1.5;\n",
       "  vertical-align: top;\n",
       "  border-top: 1px solid var(--border-color);\n",
       "  text-align: left !important;\n",
       "}\n",
       "\n",
       ".model-table tr:first-child td {\n",
       "  border-top: none;\n",
       "}\n",
       "\n",
       "/* Override Jupyter's alternating row colors */\n",
       ".model-table tr {\n",
       "  background-color: var(--primary-color) !important;\n",
       "}\n",
       "\n",
       ".model-table tr:nth-child(odd) {\n",
       "  background-color: var(--secondary-color) !important;\n",
       "}\n",
       "\n",
       "/* Add hover effect */\n",
       ".model-table tr:hover {\n",
       "  background-color: var(--surface-color) !important;\n",
       "}\n",
       "\n",
       ".field-name {\n",
       "  font-weight: 600;\n",
       "  width: 140px;\n",
       "  color: var(--tertiary-color);\n",
       "  padding-right: 16px;\n",
       "}\n",
       "\n",
       ".field-value {\n",
       "  word-break: break-all;\n",
       "  color: var(--text-color);\n",
       "  max-width: 0;\n",
       "  width: 100%;\n",
       "}\n",
       "\n",
       ".code-section {\n",
       "  margin-top: 16px;\n",
       "  border-top: 1px solid var(--border-color);\n",
       "  padding-top: 16px;\n",
       "}\n",
       "\n",
       "/* Style for the details summary (header) */\n",
       ".code-section details summary {\n",
       "  font-weight: 600;\n",
       "  margin-bottom: 8px;\n",
       "  font-size: 14px;\n",
       "  color: var(--tertiary-color);\n",
       "  cursor: pointer;\n",
       "  user-select: none;\n",
       "  list-style: none;\n",
       "  outline: none;\n",
       "}\n",
       "\n",
       "/* Add custom arrow for the summary */\n",
       ".code-section details summary::before {\n",
       "  content: \"▶\";\n",
       "  display: inline-block;\n",
       "  margin-right: 8px;\n",
       "  transition: transform 0.2s;\n",
       "}\n",
       "\n",
       "/* Rotate the arrow when details is open */\n",
       ".code-section details[open] summary::before {\n",
       "  transform: rotate(90deg);\n",
       "}\n",
       "\n",
       ".code-content {\n",
       "  max-height: 300px;\n",
       "  overflow-y: auto;\n",
       "  padding: 12px;\n",
       "  background-color: var(--surface-color);\n",
       "  border-radius: 3px;\n",
       "  border: 1px solid var(--border-color);\n",
       "  font-family: SFMono-Regular, Consolas, \"Liberation Mono\", Menlo, monospace;\n",
       "  font-size: 12px;\n",
       "  line-height: 1.4;\n",
       "}\n",
       "\n",
       ".code-content pre {\n",
       "  margin: 0;\n",
       "  background-color: var(--surface-color) !important;\n",
       "  color: var(--text-color);\n",
       "}\n",
       "\n",
       ".path-text {\n",
       "  word-break: break-all;\n",
       "  width: 70%;\n",
       "  overflow-wrap: anywhere;\n",
       "}\n",
       "\n",
       ".error-text {\n",
       "  color: red;\n",
       "}\n",
       "\n",
       ".warning-text {\n",
       "  color: #e67e00;\n",
       "}\n",
       "\n",
       "</style>\n",
       "<div class=\"model-container\">\n",
       "    <div class=\"model-header\">\n",
       "        Dataset: Organic Crop Stock Data\n",
       "    </div>\n",
       "    <div class=\"model-content\">\n",
       "        <table class=\"model-table\">\n",
       "            \n",
       "            <tr>\n",
       "                <td class=\"field-name\">uid</td>\n",
       "                <td class=\"field-value\"><div class=\"path-text\">d3ba2caf-33c7-4068-b23e-f7fd37f2acc5</div></td>\n",
       "            </tr>\n",
       "            \n",
       "            <tr>\n",
       "                <td class=\"field-name\">created_at</td>\n",
       "                <td class=\"field-value\">2025-05-19 00:37:17</td>\n",
       "            </tr>\n",
       "            \n",
       "            <tr>\n",
       "                <td class=\"field-name\">updated_at</td>\n",
       "                <td class=\"field-value\">2025-05-19 00:37:17</td>\n",
       "            </tr>\n",
       "            \n",
       "            <tr>\n",
       "                <td class=\"field-name\">name</td>\n",
       "                <td class=\"field-value\"><div class=\"path-text\">Organic Crop Stock Data</div></td>\n",
       "            </tr>\n",
       "            \n",
       "            <tr>\n",
       "                <td class=\"field-name\">readme_path</td>\n",
       "                <td class=\"field-value\"><div class=\"path-text\">/private/var/folders/4w/9cvj7hqd4_386stwby6n2pcw0000gn/T/enclave/datasites/do@openmined.org/public/datasets/Organic Crop Stock Data/README.md</div></td>\n",
       "            </tr>\n",
       "            \n",
       "            <tr>\n",
       "                <td class=\"field-name\">mock_path</td>\n",
       "                <td class=\"field-value\"><div class=\"path-text\">/private/var/folders/4w/9cvj7hqd4_386stwby6n2pcw0000gn/T/enclave/datasites/do@openmined.org/public/datasets/Organic Crop Stock Data</div></td>\n",
       "            </tr>\n",
       "            \n",
       "            <tr>\n",
       "                <td class=\"field-name\">private_path</td>\n",
       "                <td class=\"field-value\"><div class=\"path-text\">/private/var/folders/4w/9cvj7hqd4_386stwby6n2pcw0000gn/T/enclave/datasites/do@openmined.org/private/datasets/Organic Crop Stock Data</div></td>\n",
       "            </tr>\n",
       "            \n",
       "        </table>\n",
       "\n",
       "        \n",
       "        <div class=\"code-section\">\n",
       "    <details>\n",
       "        <summary>mock_path directory structure (Organic Crop Stock Data)</summary>\n",
       "        \n",
       "        <div class=\"code-content\">\n",
       "            <pre>📁 Organic Crop Stock Data\n",
       "├── 📁 .ipynb_checkpoints\n",
       "│   └── 📄 crop_stock_data-checkpoint.csv\n",
       "├── 📄 README.md\n",
       "└── 📄 crop_stock_data.csv\n",
       "</pre>\n",
       "        </div>\n",
       "        \n",
       "    </details>\n",
       "</div>\n",
       "        \n",
       "        <div class=\"code-section\">\n",
       "    <details>\n",
       "        <summary>readme_path content (README.md)</summary>\n",
       "        \n",
       "        <div class=\"code-content\">\n",
       "            <pre># Organic Crop Stock Dataset\n",
       "\n",
       "This dataset contains data representing organic crop inventory for various products.\n",
       "\n",
       "### Schema\n",
       "\n",
       "| Column       | Description                        |\n",
       "|--------------|------------------------------------|\n",
       "| ID           | Unique ID for each crop            |\n",
       "| Product name | Name of the organic crop           |\n",
       "| Quantity     | Quantity in stock                  |\n",
       "| Price        | Total price for the given quantity |\n",
       "| Unit         | Unit of measurement (always &#x27;kgs&#x27;) |\n",
       "\n",
       "### Notes\n",
       "\n",
       "- Each crop has a unique and consistent ID.\n",
       "- All units are in **kilograms (kgs)**.\n",
       "\n",
       "</pre>\n",
       "        </div>\n",
       "        \n",
       "    </details>\n",
       "</div>\n",
       "        \n",
       "    </div>\n",
       "</div>"
      ],
      "text/plain": [
       "<IPython.core.display.HTML object>"
      ]
     },
     "metadata": {},
     "output_type": "display_data"
    }
   ],
   "source": [
    "try:\n",
    "    dataset = do_client.dataset.create(\n",
    "        name=\"Organic Crop Stock Data\",\n",
    "        summary=\"This dataset contains information about organic crop stock.\",\n",
    "        description_path=README_PATH,\n",
    "        path=DATASET_PRIVATE_PATH,\n",
    "        mock_path=DATASET_MOCK_PATH,\n",
    "    )\n",
    "    dataset.describe()\n",
    "except Exception as e:\n",
    "    print(f\"Error: {e}\")"
   ]
  },
  {
   "cell_type": "code",
   "execution_count": null,
   "id": "613eb8e6",
   "metadata": {},
   "outputs": [],
   "source": [
    "do_client.datasets"
   ]
  },
  {
   "cell_type": "code",
   "execution_count": null,
   "id": "cd17c5ee",
   "metadata": {},
   "outputs": [],
   "source": [
    "dataset = do_client.datasets[0]"
   ]
  },
  {
   "cell_type": "code",
   "execution_count": null,
   "id": "6fd1d20f-baab-4119-94b4-2bbbb92750da",
   "metadata": {},
   "outputs": [],
   "source": [
    "dataset.get_mock_path()"
   ]
  },
  {
   "cell_type": "code",
   "execution_count": null,
   "id": "20b2028b-a2c6-4f34-bdef-a972f9429c77",
   "metadata": {},
   "outputs": [],
   "source": []
  }
 ],
 "metadata": {
  "kernelspec": {
   "display_name": "Python 3 (ipykernel)",
   "language": "python",
   "name": "python3"
  },
  "language_info": {
   "codemirror_mode": {
    "name": "ipython",
    "version": 3
   },
   "file_extension": ".py",
   "mimetype": "text/x-python",
   "name": "python",
   "nbconvert_exporter": "python",
   "pygments_lexer": "ipython3",
   "version": "3.12.8"
  }
 },
 "nbformat": 4,
 "nbformat_minor": 5
}
