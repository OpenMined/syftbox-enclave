{
 "cells": [
  {
   "cell_type": "markdown",
   "id": "8ada7352-849a-4114-8cb5-0a5a16b6e341",
   "metadata": {},
   "source": [
    "## Setup Enclave Server"
   ]
  },
  {
   "cell_type": "code",
   "execution_count": null,
   "id": "8f5830a6-e9a6-4f90-b52d-d539fc5a7c2a",
   "metadata": {},
   "outputs": [],
   "source": [
    "from syftbox_enclave.orchestra import setup_enclave_server\n",
    "\n",
    "\n",
    "enclave_stack = setup_enclave_server(email=\"enclave@openmined.org\", key=\"enclave\")"
   ]
  },
  {
   "cell_type": "code",
   "execution_count": null,
   "id": "3dd45a83-456b-4c20-97d7-34ed98e99a2b",
   "metadata": {},
   "outputs": [],
   "source": [
    "# enclave_stack.stop()"
   ]
  },
  {
   "cell_type": "code",
   "execution_count": null,
   "id": "8ada71d4-1a3f-4f41-9465-cb7f623c14f2",
   "metadata": {},
   "outputs": [],
   "source": []
  }
 ],
 "metadata": {
  "kernelspec": {
   "display_name": "Python 3 (ipykernel)",
   "language": "python",
   "name": "python3"
  },
  "language_info": {
   "codemirror_mode": {
    "name": "ipython",
    "version": 3
   },
   "file_extension": ".py",
   "mimetype": "text/x-python",
   "name": "python",
   "nbconvert_exporter": "python",
   "pygments_lexer": "ipython3",
   "version": "3.12.8"
  }
 },
 "nbformat": 4,
 "nbformat_minor": 5
}
