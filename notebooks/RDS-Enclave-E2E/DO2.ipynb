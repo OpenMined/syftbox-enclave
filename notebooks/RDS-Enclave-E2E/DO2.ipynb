{
 "cells": [
  {
   "cell_type": "markdown",
   "id": "862549ca",
   "metadata": {},
   "source": [
    "## Data Owner "
   ]
  },
  {
   "cell_type": "markdown",
   "id": "b3048863",
   "metadata": {},
   "source": [
    "### Step 1: Setup RDS Server"
   ]
  },
  {
   "cell_type": "code",
   "execution_count": null,
   "id": "2e14efd0-0232-4c95-bf06-1c972339abc6",
   "metadata": {},
   "outputs": [],
   "source": [
    "from syft_rds import init_session"
   ]
  },
  {
   "cell_type": "code",
   "execution_count": null,
   "id": "1d22ac3d",
   "metadata": {},
   "outputs": [],
   "source": [
    "do_client_2 = init_session(host=\"do2@openmined.org\")"
   ]
  },
  {
   "cell_type": "markdown",
   "id": "b995c0ea",
   "metadata": {},
   "source": [
    "### Step 2.1: Create Private / Mock Dataset"
   ]
  },
  {
   "cell_type": "code",
   "execution_count": null,
   "id": "58cc0153",
   "metadata": {},
   "outputs": [],
   "source": [
    "from utils import generate_crop_data, create_readme\n",
    "\n",
    "DATASET_FILE_NAME = \"crop_stock_data.csv\"\n",
    "DATASET_PATH = \"datasets/part_2\"\n",
    "DATASET_PRIVATE_PATH = f\"{DATASET_PATH}/private\"\n",
    "DATASET_MOCK_PATH = f\"{DATASET_PATH}/mock\"\n"
   ]
  },
  {
   "cell_type": "code",
   "execution_count": null,
   "id": "eef6f17a",
   "metadata": {},
   "outputs": [],
   "source": [
    "# Private Data\n",
    "generate_crop_data(num_rows=10,\n",
    "                        output_path=f\"{DATASET_PRIVATE_PATH}/{DATASET_FILE_NAME}\")"
   ]
  },
  {
   "cell_type": "code",
   "execution_count": null,
   "id": "ec04eb8b",
   "metadata": {},
   "outputs": [],
   "source": [
    "# Mock Data\n",
    "generate_crop_data(num_rows=10,\n",
    "                        output_path=f\"{DATASET_MOCK_PATH}/{DATASET_FILE_NAME}\")"
   ]
  },
  {
   "cell_type": "code",
   "execution_count": null,
   "id": "fda5ad36",
   "metadata": {},
   "outputs": [],
   "source": [
    "README_PATH = f\"{DATASET_PATH}/README.md\"\n",
    "create_readme(output_path=README_PATH)"
   ]
  },
  {
   "cell_type": "markdown",
   "id": "44c2078c",
   "metadata": {},
   "source": [
    "### Step 2.2: Load Dataset to SyftBox"
   ]
  },
  {
   "cell_type": "code",
   "execution_count": null,
   "id": "ed56c8cd",
   "metadata": {},
   "outputs": [],
   "source": [
    "try:\n",
    "    dataset = do_client_2.dataset.create(\n",
    "        name=\"Organic Crop Stock Data\",\n",
    "        summary=\"This dataset contains information about organic crop stock.\",\n",
    "        description_path=README_PATH,\n",
    "        path=DATASET_PRIVATE_PATH,\n",
    "        mock_path=DATASET_MOCK_PATH,\n",
    "        auto_approval = [\"ds@openmined.org\"]\n",
    "    )\n",
    "    dataset.describe()\n",
    "except Exception as e:\n",
    "    print(f\"Error: {e}\")"
   ]
  },
  {
   "cell_type": "code",
   "execution_count": null,
   "id": "613eb8e6",
   "metadata": {},
   "outputs": [],
   "source": [
    "do_client_2.datasets"
   ]
  },
  {
   "cell_type": "code",
   "execution_count": null,
   "id": "cd17c5ee",
   "metadata": {},
   "outputs": [],
   "source": [
    "dataset = do_client_2.datasets[0]\n",
    "dataset"
   ]
  },
  {
   "cell_type": "code",
   "execution_count": null,
   "id": "9aca0289-f9c2-4080-a568-3b8b6061a565",
   "metadata": {},
   "outputs": [],
   "source": [
    "dataset.auto_approval"
   ]
  },
  {
   "cell_type": "code",
   "execution_count": null,
   "id": "6fd1d20f-baab-4119-94b4-2bbbb92750da",
   "metadata": {},
   "outputs": [],
   "source": [
    "dataset.get_mock_path()"
   ]
  },
  {
   "cell_type": "markdown",
   "id": "7f41f7e1-c7d1-4a8c-9cb3-2b698934f496",
   "metadata": {},
   "source": [
    "## Job Approval"
   ]
  },
  {
   "cell_type": "code",
   "execution_count": null,
   "id": "2eccdc4f-9aba-4fe2-8737-9e04e6956b09",
   "metadata": {},
   "outputs": [],
   "source": [
    "jobs = do_client_2.jobs.get_all(status=\"pending_code_review\")\n",
    "jobs"
   ]
  },
  {
   "cell_type": "code",
   "execution_count": null,
   "id": "246846c7-33f7-4629-88fa-6ba6ec848c1b",
   "metadata": {},
   "outputs": [],
   "source": [
    "jobs = do_client_2.jobs.get_all(status=\"approved\")\n",
    "jobs"
   ]
  },
  {
   "cell_type": "code",
   "execution_count": null,
   "id": "f4f0868e-552b-49f7-964d-b402ab0a8c74",
   "metadata": {},
   "outputs": [],
   "source": [
    "# job = do_client_2.jobs[-1]\n",
    "# do_client_2.jobs.approve(job)"
   ]
  }
 ],
 "metadata": {
  "kernelspec": {
   "display_name": "Python 3 (ipykernel)",
   "language": "python",
   "name": "python3"
  },
  "language_info": {
   "codemirror_mode": {
    "name": "ipython",
    "version": 3
   },
   "file_extension": ".py",
   "mimetype": "text/x-python",
   "name": "python",
   "nbconvert_exporter": "python",
   "pygments_lexer": "ipython3",
   "version": "3.12.8"
  }
 },
 "nbformat": 4,
 "nbformat_minor": 5
}
