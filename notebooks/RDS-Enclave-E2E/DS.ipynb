{
 "cells": [
  {
   "cell_type": "markdown",
   "id": "a275952d",
   "metadata": {},
   "source": [
    "## Prerequisites\n",
    "\n",
    "Note: Skip if you already have the prerequisites installed.\n",
    "\n",
    "### SyftUI\n",
    "Make sure you have SyftUI running with your email logged in.\n",
    "1. It could be downloaded from [SyftUI](https://github.com/OpenMined/SyftUI/releases)\n"
   ]
  },
  {
   "cell_type": "markdown",
   "id": "b116e33b",
   "metadata": {},
   "source": [
    "### Install dependencies for this demo"
   ]
  },
  {
   "cell_type": "markdown",
   "id": "378adf83",
   "metadata": {},
   "source": [
    "### Python Environment\n",
    "\n",
    "Create a Virutal Environment\n",
    "```bash\n",
    "uv venv --python 3.12\n",
    "source .venv/bin/activate\n",
    "```"
   ]
  },
  {
   "cell_type": "markdown",
   "id": "60517c67",
   "metadata": {},
   "source": [
    "### Install Dependencies\n",
    "\n",
    "```bash\n",
    "uv pip install jupyterlab syftbox-enclave syft-rds==0.1.1-dev.2\n",
    "```"
   ]
  },
  {
   "cell_type": "markdown",
   "id": "dfc832f0-34e9-4cbf-85ca-7909b6ec0f69",
   "metadata": {},
   "source": [
    "## Explore Datasets"
   ]
  },
  {
   "cell_type": "code",
   "execution_count": null,
   "id": "6d1d9534-ceaf-4d48-b157-69acef5a41f5",
   "metadata": {},
   "outputs": [],
   "source": [
    "from syft_rds import init_session\n",
    "from syftbox_enclave.client import connect"
   ]
  },
  {
   "cell_type": "code",
   "execution_count": null,
   "id": "9d90bc2b-1d6d-43ed-934c-f30933b6a944",
   "metadata": {},
   "outputs": [],
   "source": [
    "DOS = [\"<DO1@EMAIL>\", \"<DO2@EMAIL>\"]\n",
    "DS = \"<DS@EMAIL>\"\n",
    "ENCLAVE = \"enclave-organic-coop@openmined.org\"\n"
   ]
  },
  {
   "cell_type": "code",
   "execution_count": null,
   "id": "0cd6821d",
   "metadata": {},
   "outputs": [],
   "source": [
    "# Get a client connection to the Data Owners (DOs)\n",
    "datasites = []\n",
    "for datasite_email in DOS:\n",
    "    datasite_client = init_session(host=datasite_email)\n",
    "    print(\"Logged into: \", datasite_client.host)\n",
    "    datasites.append(datasite_client)"
   ]
  },
  {
   "cell_type": "code",
   "execution_count": null,
   "id": "a91df472-12f5-4d26-944d-02ca02abd876",
   "metadata": {},
   "outputs": [],
   "source": [
    "# List Datasets of a data owner\n",
    "datasites[0].datasets"
   ]
  },
  {
   "cell_type": "code",
   "execution_count": null,
   "id": "092369c5-273f-4374-900d-ff90eea5044f",
   "metadata": {},
   "outputs": [],
   "source": [
    "# Retrieve a specific dataset from each Data Owner\n",
    "DATASET_NAME = \"<DATASET_NAME>\"\n",
    "\n",
    "datasets = []\n",
    "for datasite_client in datasites:\n",
    "    dataset = datasite_client.datasets.get(name=DATASET_NAME)\n",
    "    datasets.append(dataset)\n",
    "    print(f\"Dataset '{DATASET_NAME}' from {datasite_client.host} retrieved.\")"
   ]
  },
  {
   "cell_type": "markdown",
   "id": "c653d66a-7892-40aa-be57-c96667c05f84",
   "metadata": {},
   "source": [
    "## Prototype Code"
   ]
  },
  {
   "cell_type": "code",
   "execution_count": null,
   "id": "32c2844a-df73-4569-88f9-483781bfb194",
   "metadata": {},
   "outputs": [],
   "source": [
    "from pathlib import Path\n",
    "\n",
    "code_path = Path(\".\") / \"code\"\n",
    "code_path.mkdir(exist_ok=True)\n",
    "\n",
    "code_file = code_path / \"entrypoint.py\""
   ]
  },
  {
   "cell_type": "code",
   "execution_count": null,
   "id": "b43fa659",
   "metadata": {},
   "outputs": [],
   "source": [
    "%%writefile {code_file}\n",
    "\n",
    "import os\n",
    "from pathlib import Path\n",
    "from sys import exit\n",
    "\n",
    "import pandas as pd\n",
    "\n",
    "DATA_DIR = os.environ[\"DATA_DIR\"]\n",
    "OUTPUT_DIR = os.environ[\"OUTPUT_DIR\"]\n",
    "\n",
    "dataset_paths = [ Path(dataset_path) for dataset_path in DATA_DIR.split(\",\")]\n",
    "total_carrots = 0\n",
    "total_tomatoes = 0\n",
    "\n",
    "for dataset_path in dataset_paths:\n",
    "    if not dataset_path.exists():\n",
    "        print(\"Warning: Dataset path does not exist:\", dataset_path)\n",
    "        exit(1)\n",
    "    df = pd.read_csv(dataset_path / \"crop_stock_data.csv\")\n",
    "    total_carrots += df[df[\"Product name\"] == \"Carrots\"][\"Quantity\"].sum()\n",
    "    total_tomatoes += df[df[\"Product name\"] == \"Tomatoes\"][\"Quantity\"].sum()\n",
    "\n",
    "with open(os.path.join(OUTPUT_DIR, \"output.txt\"), \"w\") as f:\n",
    "    f.write(f\"Total Carrots: {total_carrots}\\n\")\n",
    "    f.write(f\"Total Tomatoes: {total_tomatoes}\\n\")"
   ]
  },
  {
   "cell_type": "markdown",
   "id": "095ac627-5a67-45a6-a9ed-561ab549d35f",
   "metadata": {},
   "source": [
    "### DO Job"
   ]
  },
  {
   "cell_type": "code",
   "execution_count": null,
   "id": "0521a624-c926-47f2-9d81-6ffabb093792",
   "metadata": {},
   "outputs": [],
   "source": [
    "# Job submission\n",
    "\n",
    "for datasite_client in datasites:\n",
    "    job = datasite_client.jobs.submit(\n",
    "            name=\"Organic Crop Stock Analysis\",\n",
    "            description=\"Farming Coop Avg Experiment\",\n",
    "            user_code_path=\"./code\",\n",
    "            dataset_name=DATASET_NAME,\n",
    "            tags=[\"enclave\", \"syft\"],\n",
    "            entrypoint=\"entrypoint.py\",\n",
    "            enclave = ENCLAVE\n",
    "        )\n",
    "    print(job)"
   ]
  },
  {
   "cell_type": "code",
   "execution_count": null,
   "id": "47e30981-227f-44d1-b27e-2e12f0a8b4f4",
   "metadata": {},
   "outputs": [],
   "source": [
    "datasites[0].jobs.get_all()"
   ]
  },
  {
   "cell_type": "markdown",
   "id": "77de775c-e6bc-4bfd-a1d8-d0dc287d1d29",
   "metadata": {},
   "source": [
    "### Enclave Client"
   ]
  },
  {
   "cell_type": "code",
   "execution_count": null,
   "id": "821d0ed9-3369-4eaa-bbb1-7f771a89ca99",
   "metadata": {},
   "outputs": [],
   "source": [
    "enclave_client = connect(ENCLAVE)"
   ]
  },
  {
   "cell_type": "code",
   "execution_count": null,
   "id": "9fb3975f-9dfd-4470-a146-c3cac11fea81",
   "metadata": {},
   "outputs": [],
   "source": [
    "proj_res = enclave_client.create_project(\n",
    "                   project_name = \"<PROJECT_NAME>\",\n",
    "                   datasets = datasets,\n",
    "                   output_owners = [*DOS,DS],\n",
    "                   code_path = \"./code\",\n",
    "                   entrypoint = \"entrypoint.py\"\n",
    "            )\n",
    "            "
   ]
  },
  {
   "cell_type": "code",
   "execution_count": null,
   "id": "50787be4-df7a-487b-a371-35ac3d44cbeb",
   "metadata": {},
   "outputs": [],
   "source": [
    "# Wait until the project is ready\n",
    "proj_res.output()"
   ]
  }
 ],
 "metadata": {
  "kernelspec": {
   "display_name": "syftbox-enclave",
   "language": "python",
   "name": "python3"
  },
  "language_info": {
   "codemirror_mode": {
    "name": "ipython",
    "version": 3
   },
   "file_extension": ".py",
   "mimetype": "text/x-python",
   "name": "python",
   "nbconvert_exporter": "python",
   "pygments_lexer": "ipython3",
   "version": "3.12.8"
  }
 },
 "nbformat": 4,
 "nbformat_minor": 5
}
