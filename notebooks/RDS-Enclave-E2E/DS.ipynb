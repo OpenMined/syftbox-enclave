{
 "cells": [
  {
   "cell_type": "markdown",
   "id": "ccbbabbb",
   "metadata": {},
   "source": [
    "## Setup RDS Server"
   ]
  },
  {
   "cell_type": "code",
   "execution_count": null,
   "id": "6d1d9534-ceaf-4d48-b157-69acef5a41f5",
   "metadata": {},
   "outputs": [],
   "source": [
    "from syft_rds import init_session\n",
    "from syftbox_enclave.client import connect"
   ]
  },
  {
   "cell_type": "code",
   "execution_count": null,
   "id": "7bff1320-6daf-4749-84b9-c192f7fa2b2b",
   "metadata": {},
   "outputs": [],
   "source": [
    "ds_client = init_session(\"ds-organic-coop@openmined.org\")"
   ]
  },
  {
   "cell_type": "markdown",
   "id": "dfc832f0-34e9-4cbf-85ca-7909b6ec0f69",
   "metadata": {},
   "source": [
    "## Explore Datasets"
   ]
  },
  {
   "cell_type": "code",
   "execution_count": null,
   "id": "9d90bc2b-1d6d-43ed-934c-f30933b6a944",
   "metadata": {},
   "outputs": [],
   "source": [
    "DO1 = \"do1@openmined.org\"\n",
    "DO2 = \"do2@openmined.org\"\n",
    "\n",
    "do_client_1 = init_session(host=DO1)\n",
    "print(\"Logged into: \", do_client_1.host)\n",
    "\n",
    "do_client_2 = init_session(host=DO2)\n",
    "print(\"Logged into: \", do_client_2.host)\n",
    "\n",
    "assert not do_client_1.is_admin\n",
    "assert not do_client_2.is_admin\n"
   ]
  },
  {
   "cell_type": "code",
   "execution_count": null,
   "id": "092369c5-273f-4374-900d-ff90eea5044f",
   "metadata": {},
   "outputs": [],
   "source": [
    "DATASET_NAME = \"Organic Crop Stock Data\"\n",
    "\n",
    "dataset1 = do_client_1.dataset.get(name=DATASET_NAME)\n",
    "dataset1.describe()"
   ]
  },
  {
   "cell_type": "code",
   "execution_count": null,
   "id": "8548e3f1-ab95-43d7-86a9-25dba91b770f",
   "metadata": {},
   "outputs": [],
   "source": [
    "dataset2 = do_client_2.dataset.get(name=DATASET_NAME)\n",
    "dataset2.describe()"
   ]
  },
  {
   "cell_type": "markdown",
   "id": "095ac627-5a67-45a6-a9ed-561ab549d35f",
   "metadata": {},
   "source": [
    "### DO Job"
   ]
  },
  {
   "cell_type": "code",
   "execution_count": null,
   "id": "0521a624-c926-47f2-9d81-6ffabb093792",
   "metadata": {},
   "outputs": [],
   "source": [
    "# Job submission\n",
    "datasites = [do_client_1, do_client_2]\n",
    "\n",
    "for client in datasites:\n",
    "    job = client.jobs.submit(\n",
    "            name=\"Crop Avg Experiment\",\n",
    "            description=\"Farming Coop Avg Experiment\",\n",
    "            user_code_path=\"./code\",\n",
    "            dataset_name=DATASET_NAME,\n",
    "            tags=[\"enclave\", \"syft\"],\n",
    "            entrypoint=\"entrypoint.py\",\n",
    "            enclave = \"enclave@openmined.org\"\n",
    "        )\n",
    "    print(job)"
   ]
  },
  {
   "cell_type": "markdown",
   "id": "77de775c-e6bc-4bfd-a1d8-d0dc287d1d29",
   "metadata": {},
   "source": [
    "### Enclave Client"
   ]
  },
  {
   "cell_type": "code",
   "execution_count": null,
   "id": "821d0ed9-3369-4eaa-bbb1-7f771a89ca99",
   "metadata": {},
   "outputs": [],
   "source": [
    "enclave_client = connect(\"enclave-organic-coop@openmined.org\")"
   ]
  },
  {
   "cell_type": "code",
   "execution_count": null,
   "id": "9fb3975f-9dfd-4470-a146-c3cac11fea81",
   "metadata": {},
   "outputs": [],
   "source": [
    "proj_res = enclave_client.create_project(\n",
    "                   project_name = \"CropAvg\",\n",
    "                   datasets = [dataset1,dataset2] ,\n",
    "                   output_owners = [DO1,DO2],\n",
    "                   code_path = \"./code\",\n",
    "                   entrypoint = \"entrypoint.py\"\n",
    "            )\n",
    "            "
   ]
  },
  {
   "cell_type": "code",
   "execution_count": null,
   "id": "50787be4-df7a-487b-a371-35ac3d44cbeb",
   "metadata": {},
   "outputs": [],
   "source": [
    "proj_res.output()"
   ]
  },
  {
   "cell_type": "code",
   "execution_count": null,
   "id": "ce3ce921-a017-477f-8fef-e3a23263b983",
   "metadata": {},
   "outputs": [],
   "source": []
  },
  {
   "cell_type": "code",
   "execution_count": null,
   "id": "813282f3-98b2-4bc3-a3f0-cbbaa8cefdb9",
   "metadata": {},
   "outputs": [],
   "source": []
  }
 ],
 "metadata": {
  "kernelspec": {
   "display_name": "Python 3 (ipykernel)",
   "language": "python",
   "name": "python3"
  },
  "language_info": {
   "codemirror_mode": {
    "name": "ipython",
    "version": 3
   },
   "file_extension": ".py",
   "mimetype": "text/x-python",
   "name": "python",
   "nbconvert_exporter": "python",
   "pygments_lexer": "ipython3",
   "version": "3.12.8"
  }
 },
 "nbformat": 4,
 "nbformat_minor": 5
}
