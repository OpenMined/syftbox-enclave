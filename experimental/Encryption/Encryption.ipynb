{
 "cells": [
  {
   "cell_type": "code",
   "execution_count": 1,
   "id": "ec6b65ea-9fad-4c1f-a7c4-23f531f66afa",
   "metadata": {},
   "outputs": [],
   "source": [
    "from pathlib import Path\n",
    "from cryptography.hazmat.primitives.asymmetric import rsa\n",
    "from cryptography.hazmat.primitives import serialization ,hashes\n",
    "from cryptography.hazmat.primitives.asymmetric import padding\n",
    "from loguru import logger\n",
    "from cryptography.hazmat.primitives.kdf.hkdf import HKDF\n",
    "from cryptography.hazmat.primitives.ciphers.aead import AESGCM\n",
    "\n",
    "import os\n",
    "\n",
    "\n",
    "from zip_utils import *"
   ]
  },
  {
   "cell_type": "code",
   "execution_count": 2,
   "id": "b605871c-6576-403a-81b7-08fa8a02ac1a",
   "metadata": {},
   "outputs": [
    {
     "name": "stderr",
     "output_type": "stream",
     "text": [
      "\u001b[32m2025-05-19 11:02:55.179\u001b[0m | \u001b[1mINFO    \u001b[0m | \u001b[36m__main__\u001b[0m:\u001b[36m<module>\u001b[0m:\u001b[36m25\u001b[0m - \u001b[1mPrivate key saved to keys/private_key.pem\u001b[0m\n",
      "\u001b[32m2025-05-19 11:02:55.180\u001b[0m | \u001b[1mINFO    \u001b[0m | \u001b[36m__main__\u001b[0m:\u001b[36m<module>\u001b[0m:\u001b[36m35\u001b[0m - \u001b[1mPublic key saved to keys/public_key.pem\u001b[0m\n"
     ]
    }
   ],
   "source": [
    "public_key_path = Path(\".\") / \"keys\"/ \"public_key.pem\"\n",
    "private_key_path = Path(\".\") / \"keys\"/ \"private_key.pem\"\n",
    "\n",
    "public_key_path.parent.mkdir(parents=True, exist_ok=True)\n",
    "private_key_path.parent.mkdir(parents=True, exist_ok=True)\n",
    "\n",
    "# Generate private key\n",
    "private_key = rsa.generate_private_key(\n",
    "    public_exponent=65537,\n",
    "    key_size=2048,  # or 4096 for higher security\n",
    ")\n",
    "\n",
    "# Derive public key from private key\n",
    "public_key = private_key.public_key()\n",
    "\n",
    "# Step 3.1: Save the private key to a file\n",
    "with open(private_key_path, \"wb\") as f:\n",
    "    f.write(\n",
    "        private_key.private_bytes(\n",
    "            encoding=serialization.Encoding.PEM,\n",
    "            format=serialization.PrivateFormat.TraditionalOpenSSL,\n",
    "            encryption_algorithm=serialization.NoEncryption(),\n",
    "        )\n",
    "    )\n",
    "logger.info(f\"Private key saved to {private_key_path}\")\n",
    "\n",
    "# Step 3.2: Save the public key to a file\n",
    "with open(public_key_path, \"wb\") as f:\n",
    "    f.write(\n",
    "        public_key.public_bytes(\n",
    "            encoding=serialization.Encoding.PEM,\n",
    "            format=serialization.PublicFormat.SubjectPublicKeyInfo,\n",
    "        )\n",
    "    )\n",
    "logger.info(f\"Public key saved to {public_key_path}\")"
   ]
  },
  {
   "cell_type": "code",
   "execution_count": 3,
   "id": "2742fefb-7e9c-463b-a34c-d4cda71a6e74",
   "metadata": {},
   "outputs": [],
   "source": [
    "folder_path = Path(\".\") / \"Organic Crop Data\""
   ]
  },
  {
   "cell_type": "code",
   "execution_count": 4,
   "id": "1e890cd0-cda0-42e3-af93-ec8921bd50e7",
   "metadata": {},
   "outputs": [],
   "source": [
    "zip_bytes = zip_to_bytes(files_or_dirs=folder_path, base_dir=\"Organic Crop Data\")"
   ]
  },
  {
   "cell_type": "code",
   "execution_count": 5,
   "id": "fecfbb43-a3c1-4741-9ba5-47333aa7c048",
   "metadata": {},
   "outputs": [
    {
     "data": {
      "text/plain": [
       "{'config.yaml': b'code:\\n  entrypoint: main.py\\n\\ndata:\\n  - [do1@openmined.org, 5a0c7c32-f9b6-4d74-bdbf-42547004c2b4]\\n  - [do2@openmined.org, d051a30e-8e84-4240-8f45-c5d918439d0f]\\n\\noutput:\\n  - do1@openmined.org\\n  - do2@openmined.org\\n',\n",
       " 'code/entrypoint.py': b''}"
      ]
     },
     "execution_count": 5,
     "metadata": {},
     "output_type": "execute_result"
    }
   ],
   "source": [
    "get_files_from_zip(zip_bytes)"
   ]
  },
  {
   "cell_type": "code",
   "execution_count": 6,
   "id": "34b7ccd1-48f4-4cd0-a6b6-67b93ed74ff0",
   "metadata": {},
   "outputs": [],
   "source": [
    "def encrypt_bytes(zip_bytes):\n",
    "    # Step 1: Generate a random AES key\n",
    "    aes_key = AESGCM.generate_key(bit_length=256)\n",
    "    \n",
    "    # Step 2: Encrypt the zip data with AES-GCM\n",
    "    aesgcm = AESGCM(aes_key)\n",
    "    nonce = os.urandom(12)  # GCM standard nonce size\n",
    "    ciphertext = aesgcm.encrypt(nonce, zip_bytes, associated_data=None)\n",
    "    \n",
    "    # Step 3: Encrypt the AES key with RSA public key\n",
    "    encrypted_key = public_key.encrypt(\n",
    "        aes_key,\n",
    "        padding.OAEP(\n",
    "            mgf=padding.MGF1(algorithm=hashes.SHA256()),\n",
    "            algorithm=hashes.SHA256(),\n",
    "            label=None,\n",
    "        ),\n",
    "    )\n",
    "    \n",
    "    # Step 4: Save (or send) nonce + encrypted AES key + ciphertext\n",
    "    with open(\"organic.enc\", \"wb\") as f:\n",
    "        f.write(len(encrypted_key).to_bytes(2, \"big\"))  # length of key prefix\n",
    "        f.write(encrypted_key)\n",
    "        f.write(nonce)\n",
    "        f.write(ciphertext)"
   ]
  },
  {
   "cell_type": "code",
   "execution_count": 7,
   "id": "aa726678-a7b2-41b8-b2d5-57a79e49ed5b",
   "metadata": {},
   "outputs": [],
   "source": [
    "encrypt_bytes(zip_bytes)"
   ]
  },
  {
   "cell_type": "code",
   "execution_count": 8,
   "id": "af4a3b50-775f-43b7-8c27-2eac1a260f9c",
   "metadata": {},
   "outputs": [],
   "source": [
    "def decrypt_bytes():\n",
    "    # Step 1: Read the encrypted file\n",
    "    with open(\"organic.enc\", \"rb\") as f:\n",
    "        key_len = int.from_bytes(f.read(2), \"big\")\n",
    "        encrypted_key = f.read(key_len)\n",
    "        nonce = f.read(12)\n",
    "        ciphertext = f.read()\n",
    "    \n",
    "    # Step 2: Decrypt the AES key using private key\n",
    "    aes_key = private_key.decrypt(\n",
    "        encrypted_key,\n",
    "        padding.OAEP(\n",
    "            mgf=padding.MGF1(algorithm=hashes.SHA256()),\n",
    "            algorithm=hashes.SHA256(),\n",
    "            label=None,\n",
    "        ),\n",
    "    )\n",
    "    \n",
    "    # Step 3: Decrypt the ZIP file\n",
    "    aesgcm = AESGCM(aes_key)\n",
    "    zip_bytes = aesgcm.decrypt(nonce, ciphertext, associated_data=None)\n",
    "\n",
    "    return zip_bytes"
   ]
  },
  {
   "cell_type": "code",
   "execution_count": 9,
   "id": "26b187f9-36bc-4c2b-8bcd-568390d09a94",
   "metadata": {},
   "outputs": [],
   "source": [
    "dec_bytes = decrypt_bytes()"
   ]
  },
  {
   "cell_type": "code",
   "execution_count": 10,
   "id": "ff4fb0be-5de6-45a3-a844-95c782938310",
   "metadata": {},
   "outputs": [],
   "source": [
    "extract_folder = Path(\".\") / \"Temp\"\n",
    "extract_zip(zip_data=dec_bytes, target_dir=extract_folder)"
   ]
  },
  {
   "cell_type": "code",
   "execution_count": null,
   "id": "c3509453-579d-4e89-8538-c4186b176fc0",
   "metadata": {},
   "outputs": [],
   "source": []
  }
 ],
 "metadata": {
  "kernelspec": {
   "display_name": "Python 3 (ipykernel)",
   "language": "python",
   "name": "python3"
  },
  "language_info": {
   "codemirror_mode": {
    "name": "ipython",
    "version": 3
   },
   "file_extension": ".py",
   "mimetype": "text/x-python",
   "name": "python",
   "nbconvert_exporter": "python",
   "pygments_lexer": "ipython3",
   "version": "3.12.8"
  }
 },
 "nbformat": 4,
 "nbformat_minor": 5
}
