{
 "cells": [
  {
   "cell_type": "code",
   "execution_count": 1,
   "id": "c1676c13-bc57-4419-ae90-1a98cf4b4836",
   "metadata": {},
   "outputs": [],
   "source": [
    "import yaml"
   ]
  },
  {
   "cell_type": "code",
   "execution_count": 5,
   "id": "4929a51c-8b7b-4c7e-a5ad-00674e7b18c5",
   "metadata": {},
   "outputs": [],
   "source": [
    "with open(\"config.yaml\", \"r\") as f:\n",
    "    config_file = yaml.safe_load(f)"
   ]
  },
  {
   "cell_type": "code",
   "execution_count": 11,
   "id": "18cffa87-04ce-4eba-a90a-6f541d61023a",
   "metadata": {},
   "outputs": [],
   "source": [
    "data_sources = config_file.get(\"data\", [])"
   ]
  },
  {
   "cell_type": "code",
   "execution_count": 14,
   "id": "b9b494c3-fd13-4203-ab69-7d32123a4e66",
   "metadata": {},
   "outputs": [
    {
     "name": "stdout",
     "output_type": "stream",
     "text": [
      "do1@openmined.org 5a0c7c32-f9b6-4d74-bdbf-42547004c2b4\n",
      "do2@openmined.org d051a30e-8e84-4240-8f45-c5d918439d0f\n"
     ]
    }
   ],
   "source": [
    "for source in data_sources:\n",
    "    datasite, dataset_id = source\n",
    "    print(datasite , dataset_id)"
   ]
  },
  {
   "cell_type": "code",
   "execution_count": null,
   "id": "56259d6a-3853-4e05-a7f7-ec22bfd13c05",
   "metadata": {},
   "outputs": [],
   "source": []
  }
 ],
 "metadata": {
  "kernelspec": {
   "display_name": "Python 3 (ipykernel)",
   "language": "python",
   "name": "python3"
  },
  "language_info": {
   "codemirror_mode": {
    "name": "ipython",
    "version": 3
   },
   "file_extension": ".py",
   "mimetype": "text/x-python",
   "name": "python",
   "nbconvert_exporter": "python",
   "pygments_lexer": "ipython3",
   "version": "3.12.8"
  }
 },
 "nbformat": 4,
 "nbformat_minor": 5
}
